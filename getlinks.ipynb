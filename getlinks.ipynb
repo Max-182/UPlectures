{
 "cells": [
  {
   "cell_type": "markdown",
   "metadata": {},
   "source": [
    "## Instalar e importar módulos"
   ]
  },
  {
   "cell_type": "code",
   "execution_count": 1,
   "metadata": {},
   "outputs": [],
   "source": [
    "#Beautiful Soup de bs4 y requests sirven para WebScraping (ya instalados con Anaconda)\n",
    "#Selenium sirve para automatizar el navegador(desde Anaconda Prompt ejecutar: \"pip install selenium\")\n",
    "#PyAutoGUI sirve para automatizar movimientos de mouse, clicks, teclado (\"pip install pyautogui\")\n",
    "#pyperclip para trabajar con portapapeles (\"pip install pyperclip\")\n",
    "#pandas para armar el dataframe, time para hacer pausas entre comandos"
   ]
  },
  {
   "cell_type": "code",
   "execution_count": 250,
   "metadata": {},
   "outputs": [],
   "source": [
    "import requests\n",
    "from bs4 import BeautifulSoup\n",
    "from selenium import webdriver\n",
    "from selenium.webdriver.common.keys import Keys\n",
    "from selenium.webdriver.common.by import By\n",
    "from selenium.webdriver.support.ui import Select\n",
    "import pandas as pd\n",
    "import pyautogui as pg\n",
    "import pyperclip as pc\n",
    "import time"
   ]
  },
  {
   "cell_type": "code",
   "execution_count": 3,
   "metadata": {},
   "outputs": [],
   "source": [
    "#Parsers de Scraping: lxml y html5lib (ya instalados con Anaconda)\n",
    "#Webdriver de Chrome: Ir a \"https://sites.google.com/a/chromium.org/chromedriver/downloads\" para descargar un WebDriver\n",
    "#para usarlo con Selenium  \n",
    "#Revisar que sea la misma versión, el mío es ChromeDriver 83.0.4103.39 para Windows, para revisar la versión correcta\n",
    "#ir a las opciones a la esquina superior derecha de Chrome > Help > About Google Chrome"
   ]
  },
  {
   "cell_type": "markdown",
   "metadata": {},
   "source": [
    "## Entrar a PowerCampus > Clases Virtuales con Selenium"
   ]
  },
  {
   "cell_type": "code",
   "execution_count": 280,
   "metadata": {},
   "outputs": [],
   "source": [
    "usuarioUP=\"*\"\n",
    "contraseñaUP=\"*\"\n",
    "cursoUP=\"sem. m&\"\n",
    "\n",
    "browser = webdriver.Chrome(\"C:\\Program Files (x86)\\chromedriver83.exe\") #Acá puse el driver\n",
    "browser.get(\"https://autoservicio2.up.edu.pe/ss/Home.aspx\")\n",
    "barra_user = browser.find_element_by_id(\"ctl00_ucUserLogin_lvLoginUser_ucLoginUser_lcLoginUser_UserName\")\n",
    "barra_password = browser.find_element_by_id(\"ctl00_ucUserLogin_lvLoginUser_ucLoginUser_lcLoginUser_Password\")\n",
    "barra_user.send_keys(usuarioUP) #Acá poner su usuario UP\n",
    "barra_password.send_keys(contraseñaUP) #Acá la contraseña\n",
    "barra_password.send_keys(Keys.ENTER)\n",
    "boton_clases = browser.find_element_by_link_text(\"Clases\")\n",
    "boton_clases.send_keys(Keys.ENTER)\n",
    "boton_clasesvirtuales = browser.find_element_by_link_text(\"Clases Virtuales\")\n",
    "boton_clasesvirtuales.send_keys(Keys.ENTER)\n",
    "time.sleep(0.2)\n",
    "pg.hotkey('winleft','left')\n",
    "time.sleep(0.2)\n",
    "pg.press('esc')\n",
    "pagina_base = browser.current_url"
   ]
  },
  {
   "cell_type": "markdown",
   "metadata": {},
   "source": [
    "## Navegar cursos y obtener links con Beautiful Soup o requests"
   ]
  },
  {
   "cell_type": "markdown",
   "metadata": {},
   "source": [
    "### Videos de un curso"
   ]
  },
  {
   "cell_type": "code",
   "execution_count": 281,
   "metadata": {},
   "outputs": [],
   "source": [
    "boton_desplegable = browser.find_element_by_id(\"select2-searchCursos-container\")\n",
    "boton_desplegable.click()\n",
    "busqueda = browser.find_element_by_class_name(\"select2-search__field\")\n",
    "busqueda_desplegable = browser.find_element_by_xpath('//*[@id=\"ctl00_Html1\"]/body/span/span/span[1]/input')\n",
    "busqueda_desplegable.send_keys(cursoUP) #Nombre del curso\n",
    "busqueda_desplegable.send_keys(Keys.ENTER)"
   ]
  },
  {
   "cell_type": "code",
   "execution_count": 284,
   "metadata": {},
   "outputs": [],
   "source": [
    "#Scraping\n",
    "time.sleep(1.8)\n",
    "pg.hotkey('ctrl','shift','i')\n",
    "time.sleep(4)\n",
    "for i in range(2):\n",
    "    pg.press('up')\n",
    "pg.hotkey('shift','f10')\n",
    "time.sleep(1)\n",
    "for i in range(5):\n",
    "    pg.press('down')\n",
    "pg.press('right')\n",
    "for i in range(2):\n",
    "    pg.press('down')\n",
    "pg.press('enter')\n",
    "pg.hotkey('ctrl','shift','i')\n",
    "html = pc.paste()\n",
    "soup = BeautifulSoup(html, \"lxml\") #soup es el objeto, lmxl es el parser\n",
    "#Ahora lo guardo en un archivo 'html.html'\n",
    "with open('html.html', \"wb\") as file:\n",
    "    file.write(soup.prettify(\"utf-8\"))"
   ]
  },
  {
   "cell_type": "markdown",
   "metadata": {},
   "source": [
    "## Obtener nombres de cursos"
   ]
  },
  {
   "cell_type": "code",
   "execution_count": 285,
   "metadata": {},
   "outputs": [],
   "source": [
    "cursoslista = soup.find('select', {\"id\":\"searchCursos\"})\n",
    "cursostexto = cursoslista.contents\n",
    "cursos=[] #Acá están los nombres de todos los cursos UP\n",
    "for i in range(1,len(cursostexto)):\n",
    "    cursos.append(cursostexto[i].text)"
   ]
  },
  {
   "cell_type": "markdown",
   "metadata": {},
   "source": [
    "## Obtener cabeceras y datos"
   ]
  },
  {
   "cell_type": "markdown",
   "metadata": {},
   "source": [
    "### Cabeceras"
   ]
  },
  {
   "cell_type": "code",
   "execution_count": 286,
   "metadata": {},
   "outputs": [],
   "source": [
    "tabla = soup.find('table', {\"class\":\"table\",\"id\":\"tablaResultado\"})\n",
    "cabeceraslista = tabla.thead.tr\n",
    "cabecerastexto = cabeceraslista.contents\n",
    "cabeceras=[]\n",
    "for i in range(1,len(cabecerastexto)-1,2):\n",
    "    cabeceras.append(cabecerastexto[i].text)\n",
    "cabeceras.append('Link2')"
   ]
  },
  {
   "cell_type": "markdown",
   "metadata": {},
   "source": [
    "### Datos"
   ]
  },
  {
   "cell_type": "code",
   "execution_count": 287,
   "metadata": {},
   "outputs": [],
   "source": [
    "datos = tabla.tbody\n",
    "claseslista = datos.contents\n",
    "curso=[]\n",
    "seccion=[]\n",
    "fecha=[]\n",
    "nombreseccion=[]\n",
    "duracion=[]\n",
    "link=[] #Acá estarán los urls ca.bbcollab\n",
    "link2=[] #Acá estarán los urls cloudfront\n",
    "# claseslista[#].find_all('td') ubica clase número #\n",
    "# El .text obtiene el contenido de la etiqueta; el a.get('href') obtiene el url del link\n",
    "\n",
    "for i in range(len(claseslista)):\n",
    "    curso.append((claseslista[i].find_all('td')[0]).text)\n",
    "    seccion.append((claseslista[i].find_all('td')[1]).text)\n",
    "    fecha.append((claseslista[i].find_all('td')[2]).text)\n",
    "    nombreseccion.append((claseslista[i].find_all('td')[3]).text)\n",
    "    duracion.append((claseslista[i].find_all('td')[4]).text)\n",
    "    link.append((claseslista[i].find_all('td')[5]).a.get('href'))"
   ]
  },
  {
   "cell_type": "markdown",
   "metadata": {},
   "source": [
    "#### Obtener los link2"
   ]
  },
  {
   "cell_type": "code",
   "execution_count": 288,
   "metadata": {},
   "outputs": [],
   "source": [
    "#Esta subrutina es un while que espera hasta que aparezca una imagen en pantalla y mueve el cursor hacia ella\n",
    "def esperaryencontrar(imagen):\n",
    "    r=None\n",
    "    while r is None:\n",
    "        time.sleep(0.1)\n",
    "        r=pg.locateCenterOnScreen(imagen)\n",
    "        if r==None:\n",
    "            print(\"Todavía no se encuentra su imagen %s\" %imagen)\n",
    "        else:\n",
    "            pg.moveTo(r)"
   ]
  },
  {
   "cell_type": "code",
   "execution_count": 289,
   "metadata": {},
   "outputs": [],
   "source": [
    "def continuarsiseencuentra(imagen):\n",
    "    r4=None\n",
    "    while r4 is None:\n",
    "        time.sleep(1.5)\n",
    "        r4=pg.locateCenterOnScreen(imagen)\n",
    "        if r4==None:\n",
    "            print(\"Todavía no se encuentra su imagen %s\" %imagen)\n",
    "        else:\n",
    "            continue"
   ]
  },
  {
   "cell_type": "code",
   "execution_count": 290,
   "metadata": {},
   "outputs": [],
   "source": [
    "#Esta subrutina es un while que espera hasta que aparezca una imagen en pantalla y hace click en ella\n",
    "def esperaryclickear(imagen):\n",
    "    r2=None\n",
    "    while r2 is None:\n",
    "        time.sleep(0.1)\n",
    "        r2=pg.locateCenterOnScreen(imagen)\n",
    "        if r2==None:\n",
    "            print(\"Todavía no se encuentra su imagen %s\" %imagen)\n",
    "        else:\n",
    "            pg.click(r2)"
   ]
  },
  {
   "cell_type": "code",
   "execution_count": 55,
   "metadata": {},
   "outputs": [],
   "source": [
    "#Esta subrutina es un while que espera hasta que aparezca una imagen en pantalla y hace click derecho en ella\n",
    "def esperaryclickearderecha(imagen):  \n",
    "    r3=None\n",
    "    while r3 is None:\n",
    "        time.sleep(0.1)\n",
    "        r3=pg.locateCenterOnScreen(imagen)\n",
    "        if r3==None:\n",
    "            print(\"Todavía no se encuentra su imagen %s\" %imagen)\n",
    "        else:\n",
    "            pg.click(r3,button='right')"
   ]
  },
  {
   "cell_type": "code",
   "execution_count": 248,
   "metadata": {},
   "outputs": [
    {
     "name": "stdout",
     "output_type": "stream",
     "text": [
      "Todavía no se encuentra su imagen Network.png\n",
      "Se encontró el link2 1/11 (9.09%)\n",
      "Todavía no se encuentra su imagen 206.png\n",
      "Todavía no se encuentra su imagen 206.png\n",
      "Se encontró el link2 2/11 (18.18%)\n",
      "Todavía no se encuentra su imagen 206.png\n",
      "Todavía no se encuentra su imagen 206.png\n",
      "Se encontró el link2 3/11 (27.27%)\n",
      "Todavía no se encuentra su imagen 206.png\n",
      "Todavía no se encuentra su imagen 206.png\n",
      "Todavía no se encuentra su imagen 206.png\n",
      "Se encontró el link2 4/11 (36.36%)\n",
      "Todavía no se encuentra su imagen 206.png\n",
      "Todavía no se encuentra su imagen 206.png\n",
      "Se encontró el link2 5/11 (45.45%)\n",
      "Todavía no se encuentra su imagen 206.png\n",
      "Todavía no se encuentra su imagen 206.png\n",
      "Se encontró el link2 6/11 (54.55%)\n",
      "Todavía no se encuentra su imagen 206.png\n",
      "Todavía no se encuentra su imagen 206.png\n",
      "Se encontró el link2 7/11 (63.64%)\n",
      "Todavía no se encuentra su imagen 206.png\n",
      "Todavía no se encuentra su imagen 206.png\n",
      "Se encontró el link2 8/11 (72.73%)\n",
      "Todavía no se encuentra su imagen 206.png\n",
      "Todavía no se encuentra su imagen 206.png\n",
      "Se encontró el link2 9/11 (81.82%)\n",
      "Todavía no se encuentra su imagen 206.png\n",
      "Todavía no se encuentra su imagen 206.png\n",
      "Se encontró el link2 10/11 (90.91%)\n",
      "Todavía no se encuentra su imagen 206.png\n",
      "Todavía no se encuentra su imagen 206.png\n",
      "Se encontró el link2 11/11 (100.0%)\n"
     ]
    }
   ],
   "source": [
    "# browser = webdriver.Chrome(\"C:\\Program Files (x86)\\chromedriver83.exe\")\n",
    "# link2=[]\n",
    "for j in range(len(link)):\n",
    "    browser.get(link[j])\n",
    "    if j==0:\n",
    "        time.sleep(2)\n",
    "        pg.hotkey('ctrl','shift','i')\n",
    "        esperaryclickear('Network.png')\n",
    "        time.sleep(1)\n",
    "        for i in range(2):\n",
    "            pg.press('tab')\n",
    "        for i in range(5):\n",
    "            pg.press('right')\n",
    "        pg.press('enter')\n",
    "        for i in range(5):\n",
    "            time.sleep(0.2)\n",
    "            pg.press('tab')\n",
    "    continuarsiseencuentra('206.png')\n",
    "    pg.press('down')\n",
    "    time.sleep(1)\n",
    "    pg.hotkey('shift','f10')\n",
    "    time.sleep(1)\n",
    "    pg.press('down')\n",
    "    time.sleep(0.5)\n",
    "    pg.press('enter')\n",
    "    browser.switch_to.window(browser.window_handles[1])\n",
    "    link2.append(browser.current_url)\n",
    "    print(\"Se encontró el link2 %s/\"%(j+1)+\"%s \"%(len(link))+(\"(%s%%)\")%(round((j+1)*100/(len(link)),2)))\n",
    "    pg.hotkey('ctrl','w')\n",
    "    browser.switch_to.window(browser.window_handles[0])\n",
    "time.sleep(1.5)\n",
    "pg.hotkey('ctrl','shift','i')"
   ]
  },
  {
   "cell_type": "markdown",
   "metadata": {},
   "source": [
    "## Marco de datos con pandas y exportar como csv"
   ]
  },
  {
   "cell_type": "code",
   "execution_count": 249,
   "metadata": {},
   "outputs": [
    {
     "data": {
      "text/html": [
       "<div>\n",
       "<style scoped>\n",
       "    .dataframe tbody tr th:only-of-type {\n",
       "        vertical-align: middle;\n",
       "    }\n",
       "\n",
       "    .dataframe tbody tr th {\n",
       "        vertical-align: top;\n",
       "    }\n",
       "\n",
       "    .dataframe thead th {\n",
       "        text-align: right;\n",
       "    }\n",
       "</style>\n",
       "<table border=\"1\" class=\"dataframe\">\n",
       "  <thead>\n",
       "    <tr style=\"text-align: right;\">\n",
       "      <th></th>\n",
       "      <th>Curso</th>\n",
       "      <th>Sección</th>\n",
       "      <th>Fecha</th>\n",
       "      <th>Nombre de la sesión</th>\n",
       "      <th>Duración</th>\n",
       "      <th>Link</th>\n",
       "      <th>Link2</th>\n",
       "    </tr>\n",
       "  </thead>\n",
       "  <tbody>\n",
       "    <tr>\n",
       "      <th>0</th>\n",
       "      <td>Sem. M&amp;A Case Studies</td>\n",
       "      <td>A</td>\n",
       "      <td>2020-03-31</td>\n",
       "      <td>Clase 1</td>\n",
       "      <td>1:44:14</td>\n",
       "      <td>https://ca.bbcollab.com/recording/5d4f1271523e...</td>\n",
       "      <td>https://dfz4hf1hz1uri.cloudfront.net/content/7...</td>\n",
       "    </tr>\n",
       "    <tr>\n",
       "      <th>1</th>\n",
       "      <td>Sem. M&amp;A Case Studies</td>\n",
       "      <td>A</td>\n",
       "      <td>2020-04-07</td>\n",
       "      <td>Clase 2</td>\n",
       "      <td>1:53:37</td>\n",
       "      <td>https://ca.bbcollab.com/recording/93ba79d4636e...</td>\n",
       "      <td>https://dfz4hf1hz1uri.cloudfront.net/content/9...</td>\n",
       "    </tr>\n",
       "    <tr>\n",
       "      <th>2</th>\n",
       "      <td>Sem. M&amp;A Case Studies</td>\n",
       "      <td>A</td>\n",
       "      <td>2020-04-14</td>\n",
       "      <td>Clase 3</td>\n",
       "      <td>1:51:07</td>\n",
       "      <td>https://ca.bbcollab.com/recording/1947a3f19e80...</td>\n",
       "      <td>https://dfz4hf1hz1uri.cloudfront.net/content/e...</td>\n",
       "    </tr>\n",
       "    <tr>\n",
       "      <th>3</th>\n",
       "      <td>Sem. M&amp;A Case Studies</td>\n",
       "      <td>A</td>\n",
       "      <td>2020-04-21</td>\n",
       "      <td>Clase 4</td>\n",
       "      <td>1:44:29</td>\n",
       "      <td>https://ca.bbcollab.com/recording/bd9cc01425a1...</td>\n",
       "      <td>https://dfz4hf1hz1uri.cloudfront.net/content/2...</td>\n",
       "    </tr>\n",
       "    <tr>\n",
       "      <th>4</th>\n",
       "      <td>Sem. M&amp;A Case Studies</td>\n",
       "      <td>A</td>\n",
       "      <td>2020-04-28</td>\n",
       "      <td>Clase 5</td>\n",
       "      <td>1:45:56</td>\n",
       "      <td>https://ca.bbcollab.com/recording/34b3a04641a8...</td>\n",
       "      <td>https://dfz4hf1hz1uri.cloudfront.net/content/9...</td>\n",
       "    </tr>\n",
       "    <tr>\n",
       "      <th>5</th>\n",
       "      <td>Sem. M&amp;A Case Studies</td>\n",
       "      <td>A</td>\n",
       "      <td>2020-05-05</td>\n",
       "      <td>Clase 6</td>\n",
       "      <td>1:51:25</td>\n",
       "      <td>https://ca.bbcollab.com/recording/605da0b292b8...</td>\n",
       "      <td>https://dfz4hf1hz1uri.cloudfront.net/content/e...</td>\n",
       "    </tr>\n",
       "    <tr>\n",
       "      <th>6</th>\n",
       "      <td>Sem. M&amp;A Case Studies</td>\n",
       "      <td>A</td>\n",
       "      <td>2020-05-12</td>\n",
       "      <td>Clase 7</td>\n",
       "      <td>1:45:20</td>\n",
       "      <td>https://ca.bbcollab.com/recording/5039a4cb7b08...</td>\n",
       "      <td>https://dfz4hf1hz1uri.cloudfront.net/content/d...</td>\n",
       "    </tr>\n",
       "    <tr>\n",
       "      <th>7</th>\n",
       "      <td>Sem. M&amp;A Case Studies</td>\n",
       "      <td>A</td>\n",
       "      <td>2020-05-26</td>\n",
       "      <td>Clase 8</td>\n",
       "      <td>1:49:30</td>\n",
       "      <td>https://ca.bbcollab.com/recording/bba9429025c3...</td>\n",
       "      <td>https://dfz4hf1hz1uri.cloudfront.net/content/a...</td>\n",
       "    </tr>\n",
       "    <tr>\n",
       "      <th>8</th>\n",
       "      <td>Sem. M&amp;A Case Studies</td>\n",
       "      <td>A</td>\n",
       "      <td>2020-06-02</td>\n",
       "      <td>Clase 9</td>\n",
       "      <td>1:50:38</td>\n",
       "      <td>https://ca.bbcollab.com/recording/72e06fd91030...</td>\n",
       "      <td>https://dfz4hf1hz1uri.cloudfront.net/content/4...</td>\n",
       "    </tr>\n",
       "    <tr>\n",
       "      <th>9</th>\n",
       "      <td>Sem. M&amp;A Case Studies</td>\n",
       "      <td>A</td>\n",
       "      <td>2020-06-09</td>\n",
       "      <td>Clase 10</td>\n",
       "      <td>1:51:29</td>\n",
       "      <td>https://ca.bbcollab.com/recording/1ea632702386...</td>\n",
       "      <td>https://dfz4hf1hz1uri.cloudfront.net/content/7...</td>\n",
       "    </tr>\n",
       "    <tr>\n",
       "      <th>10</th>\n",
       "      <td>Sem. M&amp;A Case Studies</td>\n",
       "      <td>A</td>\n",
       "      <td>2020-06-16</td>\n",
       "      <td>Clase 11</td>\n",
       "      <td>1:44:31</td>\n",
       "      <td>https://ca.bbcollab.com/recording/6e96dad17538...</td>\n",
       "      <td>https://dfz4hf1hz1uri.cloudfront.net/content/0...</td>\n",
       "    </tr>\n",
       "  </tbody>\n",
       "</table>\n",
       "</div>"
      ],
      "text/plain": [
       "                    Curso Sección       Fecha Nombre de la sesión Duración  \\\n",
       "0   Sem. M&A Case Studies       A  2020-03-31             Clase 1  1:44:14   \n",
       "1   Sem. M&A Case Studies       A  2020-04-07             Clase 2  1:53:37   \n",
       "2   Sem. M&A Case Studies       A  2020-04-14             Clase 3  1:51:07   \n",
       "3   Sem. M&A Case Studies       A  2020-04-21             Clase 4  1:44:29   \n",
       "4   Sem. M&A Case Studies       A  2020-04-28             Clase 5  1:45:56   \n",
       "5   Sem. M&A Case Studies       A  2020-05-05             Clase 6  1:51:25   \n",
       "6   Sem. M&A Case Studies       A  2020-05-12             Clase 7  1:45:20   \n",
       "7   Sem. M&A Case Studies       A  2020-05-26             Clase 8  1:49:30   \n",
       "8   Sem. M&A Case Studies       A  2020-06-02             Clase 9  1:50:38   \n",
       "9   Sem. M&A Case Studies       A  2020-06-09            Clase 10  1:51:29   \n",
       "10  Sem. M&A Case Studies       A  2020-06-16            Clase 11  1:44:31   \n",
       "\n",
       "                                                 Link  \\\n",
       "0   https://ca.bbcollab.com/recording/5d4f1271523e...   \n",
       "1   https://ca.bbcollab.com/recording/93ba79d4636e...   \n",
       "2   https://ca.bbcollab.com/recording/1947a3f19e80...   \n",
       "3   https://ca.bbcollab.com/recording/bd9cc01425a1...   \n",
       "4   https://ca.bbcollab.com/recording/34b3a04641a8...   \n",
       "5   https://ca.bbcollab.com/recording/605da0b292b8...   \n",
       "6   https://ca.bbcollab.com/recording/5039a4cb7b08...   \n",
       "7   https://ca.bbcollab.com/recording/bba9429025c3...   \n",
       "8   https://ca.bbcollab.com/recording/72e06fd91030...   \n",
       "9   https://ca.bbcollab.com/recording/1ea632702386...   \n",
       "10  https://ca.bbcollab.com/recording/6e96dad17538...   \n",
       "\n",
       "                                                Link2  \n",
       "0   https://dfz4hf1hz1uri.cloudfront.net/content/7...  \n",
       "1   https://dfz4hf1hz1uri.cloudfront.net/content/9...  \n",
       "2   https://dfz4hf1hz1uri.cloudfront.net/content/e...  \n",
       "3   https://dfz4hf1hz1uri.cloudfront.net/content/2...  \n",
       "4   https://dfz4hf1hz1uri.cloudfront.net/content/9...  \n",
       "5   https://dfz4hf1hz1uri.cloudfront.net/content/e...  \n",
       "6   https://dfz4hf1hz1uri.cloudfront.net/content/d...  \n",
       "7   https://dfz4hf1hz1uri.cloudfront.net/content/a...  \n",
       "8   https://dfz4hf1hz1uri.cloudfront.net/content/4...  \n",
       "9   https://dfz4hf1hz1uri.cloudfront.net/content/7...  \n",
       "10  https://dfz4hf1hz1uri.cloudfront.net/content/0...  "
      ]
     },
     "execution_count": 249,
     "metadata": {},
     "output_type": "execute_result"
    }
   ],
   "source": [
    "datostot=[curso,seccion,fecha,nombreseccion,duracion,link,link2]\n",
    "marco1 = pd.DataFrame()\n",
    "for i in range(len(cabeceras)):\n",
    "    marco1[cabeceras[i]]=datostot[i]\n",
    "marco1"
   ]
  },
  {
   "cell_type": "code",
   "execution_count": 130,
   "metadata": {},
   "outputs": [],
   "source": [
    "marco1.to_csv(\"marco1.csv\", index=False, header=True)"
   ]
  },
  {
   "cell_type": "code",
   "execution_count": 261,
   "metadata": {},
   "outputs": [
    {
     "data": {
      "text/plain": [
       "'1:44:14'"
      ]
     },
     "execution_count": 261,
     "metadata": {},
     "output_type": "execute_result"
    }
   ],
   "source": [
    "y=marco1['Duración'].iloc[0]\n",
    "y"
   ]
  },
  {
   "cell_type": "code",
   "execution_count": 275,
   "metadata": {},
   "outputs": [
    {
     "data": {
      "text/plain": [
       "3841"
      ]
     },
     "execution_count": 275,
     "metadata": {},
     "output_type": "execute_result"
    }
   ],
   "source": [
    "int(y[0])*3600+int(y[2:3])*60+int(y[-2:-1])"
   ]
  },
  {
   "cell_type": "code",
   "execution_count": 270,
   "metadata": {},
   "outputs": [
    {
     "data": {
      "text/plain": [
       "3600"
      ]
     },
     "execution_count": 270,
     "metadata": {},
     "output_type": "execute_result"
    }
   ],
   "source": [
    "int(y[0])*3600"
   ]
  },
  {
   "cell_type": "code",
   "execution_count": 276,
   "metadata": {},
   "outputs": [
    {
     "name": "stdout",
     "output_type": "stream",
     "text": [
      "este video dura 1:53:37\n"
     ]
    }
   ],
   "source": [
    "print(\"este video dura %s\" %marco1['Duración'].loc[1])"
   ]
  },
  {
   "cell_type": "code",
   "execution_count": null,
   "metadata": {},
   "outputs": [],
   "source": []
  }
 ],
 "metadata": {
  "kernelspec": {
   "display_name": "Python 3",
   "language": "python",
   "name": "python3"
  },
  "language_info": {
   "codemirror_mode": {
    "name": "ipython",
    "version": 3
   },
   "file_extension": ".py",
   "mimetype": "text/x-python",
   "name": "python",
   "nbconvert_exporter": "python",
   "pygments_lexer": "ipython3",
   "version": "3.7.6"
  }
 },
 "nbformat": 4,
 "nbformat_minor": 4
}
