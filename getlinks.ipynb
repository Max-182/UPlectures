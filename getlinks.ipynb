{
 "cells": [
  {
   "cell_type": "markdown",
   "metadata": {},
   "source": [
    "## Instalar e importar librerías"
   ]
  },
  {
   "cell_type": "code",
   "execution_count": null,
   "metadata": {},
   "outputs": [],
   "source": [
    "#Beautiful Soup de bs4 y requests sirven para WebScraping (ya instalados con Anaconda)\n",
    "#Selenium sirve para automatizar el navegador(desde Anaconda Prompt ejecutar: \"pip install selenium\")\n",
    "#PyAutoGUI sirve para automatizar movimientos de mouse, clicks, teclado"
   ]
  },
  {
   "cell_type": "code",
   "execution_count": null,
   "metadata": {},
   "outputs": [],
   "source": [
    "import requests\n",
    "from bs4 import BeautifulSoup\n",
    "from selenium import webdriver\n",
    "from selenium.webdriver.common.keys import Keys\n",
    "import pandas as pd"
   ]
  },
  {
   "cell_type": "code",
   "execution_count": null,
   "metadata": {},
   "outputs": [],
   "source": [
    "#Parsers de Scraping: lxml y html5lib (ya instalados con Anaconda)\n",
    "#Webdriver de Chrome: Ir a \"https://sites.google.com/a/chromium.org/chromedriver/downloads\" para descargar un WebDriver\n",
    "#para usarlo con Selenium  \n",
    "#Revisar que sea la misma versión, el mío es ChromeDriver 83.0.4103.39 para Windows, para revisar la versión correcta\n",
    "#ir a las opciones a la esquina superior derecha de Chrome > Help > About Google Chrome"
   ]
  },
  {
   "cell_type": "markdown",
   "metadata": {},
   "source": [
    "## Entrar a PowerCampus > Clases Virtuales con Selenium"
   ]
  },
  {
   "cell_type": "code",
   "execution_count": null,
   "metadata": {},
   "outputs": [],
   "source": [
    "browser = webdriver.Chrome(\"C:\\Program Files (x86)\\chromedriver83.exe\") #Acá puse el driver\n",
    "browser.get(\"https://autoservicio2.up.edu.pe/ss/Home.aspx\")\n",
    "barra_user = browser.find_element_by_id(\"ctl00_ucUserLogin_lvLoginUser_ucLoginUser_lcLoginUser_UserName\")\n",
    "barra_password = browser.find_element_by_id(\"ctl00_ucUserLogin_lvLoginUser_ucLoginUser_lcLoginUser_Password\")\n",
    "barra_user.send_keys(\"usuarioUP\") #Acá poner su usuario UP\n",
    "barra_password.send_keys(\"contraseñaUP\") #Acá la contraseña\n",
    "barra_password.send_keys(Keys.ENTER)\n",
    "boton_clases = browser.find_element_by_link_text(\"Clases\")\n",
    "boton_clases.send_keys(Keys.ENTER)\n",
    "boton_clasesvirtuales = browser.find_element_by_link_text(\"Clases Virtuales\")\n",
    "boton_clasesvirtuales.send_keys(Keys.ENTER)"
   ]
  },
  {
   "cell_type": "markdown",
   "metadata": {},
   "source": [
    "## Navegar cursos y obtener links con Beautiful Soup o requests"
   ]
  },
  {
   "cell_type": "markdown",
   "metadata": {},
   "source": [
    "### Obtener HTML"
   ]
  },
  {
   "cell_type": "code",
   "execution_count": null,
   "metadata": {},
   "outputs": [],
   "source": []
  },
  {
   "cell_type": "markdown",
   "metadata": {},
   "source": [
    "### Elegir parser"
   ]
  },
  {
   "cell_type": "code",
   "execution_count": null,
   "metadata": {},
   "outputs": [],
   "source": []
  },
  {
   "cell_type": "markdown",
   "metadata": {},
   "source": [
    "### Crear objeto de Beautiful Soup"
   ]
  },
  {
   "cell_type": "code",
   "execution_count": null,
   "metadata": {},
   "outputs": [],
   "source": []
  },
  {
   "cell_type": "code",
   "execution_count": null,
   "metadata": {},
   "outputs": [],
   "source": [
    "#Automatizar para todos los cursos"
   ]
  },
  {
   "cell_type": "markdown",
   "metadata": {},
   "source": [
    "### Obtener los links descargables con inspeccionar con PyAutoGUI"
   ]
  },
  {
   "cell_type": "code",
   "execution_count": null,
   "metadata": {},
   "outputs": [],
   "source": []
  },
  {
   "cell_type": "markdown",
   "metadata": {},
   "source": [
    "## Organizar tabla con pandas y exportar como csv"
   ]
  },
  {
   "cell_type": "code",
   "execution_count": null,
   "metadata": {},
   "outputs": [],
   "source": []
  }
 ],
 "metadata": {
  "kernelspec": {
   "display_name": "Python 3",
   "language": "python",
   "name": "python3"
  },
  "language_info": {
   "codemirror_mode": {
    "name": "ipython",
    "version": 3
   },
   "file_extension": ".py",
   "mimetype": "text/x-python",
   "name": "python",
   "nbconvert_exporter": "python",
   "pygments_lexer": "ipython3",
   "version": "3.7.6"
  }
 },
 "nbformat": 4,
 "nbformat_minor": 4
}
