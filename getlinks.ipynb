{
 "cells": [
  {
   "cell_type": "markdown",
   "metadata": {},
   "source": [
    "## Instalar e importar módulos"
   ]
  },
  {
   "cell_type": "code",
   "execution_count": 1,
   "metadata": {},
   "outputs": [],
   "source": [
    "#Beautiful Soup de bs4 y requests sirven para WebScraping (ya instalados con Anaconda)\n",
    "#Selenium sirve para automatizar el navegador(desde Anaconda Prompt ejecutar: \"pip install selenium\")\n",
    "#PyAutoGUI sirve para automatizar movimientos de mouse, clicks, teclado (\"pip install pyautogui\")\n",
    "#pyperclip para trabajar con portapapeles (\"pip install pyperclip\")\n",
    "#pandas para armar el dataframe, time para hacer pausas entre comandos"
   ]
  },
  {
   "cell_type": "code",
   "execution_count": 206,
   "metadata": {},
   "outputs": [],
   "source": [
    "import requests\n",
    "from bs4 import BeautifulSoup\n",
    "from selenium import webdriver\n",
    "from selenium.webdriver.common.keys import Keys\n",
    "from selenium.webdriver.common.by import By\n",
    "from selenium.webdriver.support.ui import Select\n",
    "import pandas as pd\n",
    "import pyautogui as pg\n",
    "import pyperclip as pc\n",
    "import time"
   ]
  },
  {
   "cell_type": "code",
   "execution_count": 3,
   "metadata": {},
   "outputs": [],
   "source": [
    "#Parsers de Scraping: lxml y html5lib (ya instalados con Anaconda)\n",
    "#Webdriver de Chrome: Ir a \"https://sites.google.com/a/chromium.org/chromedriver/downloads\" para descargar un WebDriver\n",
    "#para usarlo con Selenium  \n",
    "#Revisar que sea la misma versión, el mío es ChromeDriver 83.0.4103.39 para Windows, para revisar la versión correcta\n",
    "#ir a las opciones a la esquina superior derecha de Chrome > Help > About Google Chrome"
   ]
  },
  {
   "cell_type": "markdown",
   "metadata": {},
   "source": [
    "## Entrar a PowerCampus > Clases Virtuales con Selenium"
   ]
  },
  {
   "cell_type": "code",
   "execution_count": 207,
   "metadata": {},
   "outputs": [
    {
     "data": {
      "text/plain": [
       "'https://autoservicio2.up.edu.pe/ss/UP/AdminClasesVirtuales/Forms/ListarClasesVirtuales.aspx'"
      ]
     },
     "execution_count": 207,
     "metadata": {},
     "output_type": "execute_result"
    }
   ],
   "source": [
    "browser = webdriver.Chrome(\"C:\\Program Files (x86)\\chromedriver83.exe\") #Acá puse el driver\n",
    "browser.get(\"https://autoservicio2.up.edu.pe/ss/Home.aspx\")\n",
    "barra_user = browser.find_element_by_id(\"ctl00_ucUserLogin_lvLoginUser_ucLoginUser_lcLoginUser_UserName\")\n",
    "barra_password = browser.find_element_by_id(\"ctl00_ucUserLogin_lvLoginUser_ucLoginUser_lcLoginUser_Password\")\n",
    "barra_user.send_keys(\"jm.huamanpi\") #Acá poner su usuario UP\n",
    "barra_password.send_keys(\"831134DD\") #Acá la contraseña\n",
    "barra_password.send_keys(Keys.ENTER)\n",
    "boton_clases = browser.find_element_by_link_text(\"Clases\")\n",
    "boton_clases.send_keys(Keys.ENTER)\n",
    "boton_clasesvirtuales = browser.find_element_by_link_text(\"Clases Virtuales\")\n",
    "boton_clasesvirtuales.send_keys(Keys.ENTER)\n",
    "pagina_base = browser.current_url\n",
    "pagina_base"
   ]
  },
  {
   "cell_type": "markdown",
   "metadata": {},
   "source": [
    "## Navegar cursos y obtener links con Beautiful Soup o requests"
   ]
  },
  {
   "cell_type": "markdown",
   "metadata": {},
   "source": [
    "### Videos de un curso"
   ]
  },
  {
   "cell_type": "code",
   "execution_count": 208,
   "metadata": {},
   "outputs": [],
   "source": [
    "boton_desplegable = browser.find_element_by_id(\"select2-searchCursos-container\")\n",
    "boton_desplegable.click()\n",
    "busqueda = browser.find_element_by_class_name(\"select2-search__field\")\n",
    "busqueda_desplegable = browser.find_element_by_xpath('//*[@id=\"ctl00_Html1\"]/body/span/span/span[1]/input')\n",
    "busqueda_desplegable.send_keys(\"administracion\") #Nombre del curso\n",
    "busqueda_desplegable.send_keys(Keys.ENTER)"
   ]
  },
  {
   "cell_type": "code",
   "execution_count": 229,
   "metadata": {},
   "outputs": [],
   "source": [
    "# #Scraping\n",
    "# pedido = requests.get(pagina_curso) #pedido GET request\n",
    "# pedido\n",
    "# html = pedido.content #su contenido\n",
    "# soup = BeautifulSoup(html, \"lxml\") #soup es el objeto, lmxl es el parser\n",
    "# #Ahora lo guardo en un archivo 'pedido.html'\n",
    "# with open('pedido.html', \"wb\") as file:\n",
    "#     file.write(soup.prettify(\"utf-8\"))\n",
    "# #Este pedido cambia con el Javascript así que no sirve, por eso lo sacaré con PyAutoGUI"
   ]
  },
  {
   "cell_type": "code",
   "execution_count": 209,
   "metadata": {},
   "outputs": [],
   "source": [
    "#Scraping\n",
    "time.sleep(1.8)\n",
    "pg.hotkey('ctrl','shift','i')\n",
    "time.sleep(1.5)\n",
    "for i in range(0,2):\n",
    "    pg.press('up')\n",
    "pg.hotkey('shift','f10')\n",
    "time.sleep(1)\n",
    "for i in range(0,5):\n",
    "    pg.press('down')\n",
    "pg.press('right')\n",
    "for i in range(0,2):\n",
    "    pg.press('down')\n",
    "pg.press('enter')\n",
    "html = pc.paste() \n",
    "html\n",
    "soup = BeautifulSoup(html, \"lxml\") #soup es el objeto, lmxl es el parser\n",
    "#Ahora lo guardo en un archivo 'html.html'\n",
    "with open('html.html', \"wb\") as file:\n",
    "    file.write(soup.prettify(\"utf-8\"))\n",
    "#time.sleep(1)\n",
    "#pg.click(pg.locateCenterOnScreen('HTMLtag.png'), button='right')\n",
    "#time.sleep(1)\n",
    "#pg.click(pg.locateCenterOnScreen('Copy.png'))\n",
    "#time.sleep(1)\n",
    "#pg.click(pg.locateCenterOnScreen('Copyouterhtml.png'))"
   ]
  },
  {
   "cell_type": "markdown",
   "metadata": {},
   "source": [
    "## Obtener nombres de cursos"
   ]
  },
  {
   "cell_type": "code",
   "execution_count": 228,
   "metadata": {},
   "outputs": [
    {
     "data": {
      "text/plain": [
       "['Acto Jurídico(A)',\n",
       " 'Administración de Operaciones(A)',\n",
       " 'Administración de Operaciones(B)',\n",
       " 'Administración de Operaciones(C)',\n",
       " 'Administración de Operaciones(D)']"
      ]
     },
     "execution_count": 228,
     "metadata": {},
     "output_type": "execute_result"
    }
   ],
   "source": [
    "type(soup)\n",
    "cursoslista = soup.find('select', {\"id\":\"searchCursos\"})\n",
    "cursostexto = cursoslista.contents\n",
    "cursos=[]\n",
    "for i in range(1,len(cursostexto)):\n",
    "    cursos.append(cursostexto[i].text)\n",
    "cursos[:5]"
   ]
  },
  {
   "cell_type": "markdown",
   "metadata": {},
   "source": [
    "## Obtener cabeceras y datos"
   ]
  },
  {
   "cell_type": "markdown",
   "metadata": {},
   "source": [
    "### Cabeceras"
   ]
  },
  {
   "cell_type": "code",
   "execution_count": 263,
   "metadata": {},
   "outputs": [
    {
     "data": {
      "text/plain": [
       "['Curso', 'Sección', 'Fecha', 'Nombre de la sesión', 'Duración', 'Link']"
      ]
     },
     "execution_count": 263,
     "metadata": {},
     "output_type": "execute_result"
    }
   ],
   "source": [
    "tabla = soup.find('table', {\"class\":\"table\",\"id\":\"tablaResultado\"})\n",
    "cabeceraslista = tabla.thead.tr\n",
    "cabecerastexto = cabeceraslista.contents\n",
    "cabeceras=[]\n",
    "for i in range(1,len(cabecerastexto)-1,2):\n",
    "    cabeceras.append(cabecerastexto[i].text)\n",
    "cabeceras"
   ]
  },
  {
   "cell_type": "markdown",
   "metadata": {},
   "source": [
    "### Datos"
   ]
  },
  {
   "cell_type": "code",
   "execution_count": 275,
   "metadata": {},
   "outputs": [
    {
     "data": {
      "text/plain": [
       "[<td>Administración de Operaciones</td>,\n",
       " <td>A</td>,\n",
       " <td>2020-04-02</td>,\n",
       " <td>Sesión Jueves 02 Abril 2020</td>,\n",
       " <td>1:44:06</td>,\n",
       " <td> <a href=\"https://ca.bbcollab.com/recording/50a74f22db544b69842a0db581be3746\" target=\"_blank\">ingresar</a></td>]"
      ]
     },
     "execution_count": 275,
     "metadata": {},
     "output_type": "execute_result"
    }
   ],
   "source": [
    "datos = tabla.tbody\n",
    "claseslista = datos.contents\n",
    "claseslista[1].find_all('td')"
   ]
  },
  {
   "cell_type": "code",
   "execution_count": null,
   "metadata": {},
   "outputs": [],
   "source": []
  },
  {
   "cell_type": "markdown",
   "metadata": {},
   "source": [
    "###  Obtener urls ca.bbcollab"
   ]
  },
  {
   "cell_type": "code",
   "execution_count": 93,
   "metadata": {},
   "outputs": [
    {
     "data": {
      "text/plain": [
       "36"
      ]
     },
     "execution_count": 93,
     "metadata": {},
     "output_type": "execute_result"
    }
   ],
   "source": [
    "enlaces = browser.find_elements_by_xpath('.//a[text()=\"ingresar\"]')\n",
    "urls = [] #Acá están los urls\n",
    "for n in enlaces:\n",
    "    urls.append(n.get_attribute('href'))\n",
    "urls\n",
    "len(urls)"
   ]
  },
  {
   "cell_type": "markdown",
   "metadata": {},
   "source": [
    "### Obtener urls cloudfront"
   ]
  },
  {
   "cell_type": "code",
   "execution_count": 95,
   "metadata": {},
   "outputs": [
    {
     "data": {
      "text/plain": [
       "1"
      ]
     },
     "execution_count": 95,
     "metadata": {},
     "output_type": "execute_result"
    }
   ],
   "source": [
    "urls2 = [] #Acá estarán los nuevos urls\n",
    "for a in range(0,len(urls)):\n",
    "    browser.get(urls[a])\n",
    "    if a == 0:\n",
    "        pg.hotkey('ctrl','shift','i') #Abrir las herramientas del desarrollador\n",
    "        pg.hotkey('winleft','up') #Maximizar la ventana\n",
    "        time.sleep(1.5)\n",
    "        pg.click(pg.locateCenterOnScreen('Network.png'))\n",
    "    time.sleep(8)\n",
    "    pg.click(pg.locateCenterOnScreen('Media.png'),button='right')\n",
    "    pg.click(pg.locateCenterOnScreen('Open.png'))\n",
    "    browser.switch_to.window(browser.window_handles[1])\n",
    "    urls2.append(browser.current_url)\n",
    "    pg.hotkey('ctrl','w')\n",
    "    browser.switch_to.window(browser.window_handles[0])\n",
    "urls2\n",
    "len(urls2)"
   ]
  },
  {
   "cell_type": "markdown",
   "metadata": {},
   "source": [
    "## Organizar tabla con pandas y exportar como csv"
   ]
  },
  {
   "cell_type": "code",
   "execution_count": null,
   "metadata": {},
   "outputs": [],
   "source": []
  }
 ],
 "metadata": {
  "kernelspec": {
   "display_name": "Python 3",
   "language": "python",
   "name": "python3"
  },
  "language_info": {
   "codemirror_mode": {
    "name": "ipython",
    "version": 3
   },
   "file_extension": ".py",
   "mimetype": "text/x-python",
   "name": "python",
   "nbconvert_exporter": "python",
   "pygments_lexer": "ipython3",
   "version": "3.7.6"
  }
 },
 "nbformat": 4,
 "nbformat_minor": 4
}
