{
 "cells": [
  {
   "cell_type": "markdown",
   "metadata": {},
   "source": [
    "## Instalar e importar librerías"
   ]
  },
  {
   "cell_type": "code",
   "execution_count": 1,
   "metadata": {},
   "outputs": [],
   "source": [
    "#Beautiful Soup de bs4 y requests sirven para WebScraping (ya instalados con Anaconda)\n",
    "#Selenium sirve para automatizar el navegador(desde Anaconda Prompt ejecutar: \"pip install selenium\")\n",
    "#PyAutoGUI sirve para automatizar movimientos de mouse, clicks, teclado (\"pip install pyautogui\")"
   ]
  },
  {
   "cell_type": "code",
   "execution_count": 90,
   "metadata": {},
   "outputs": [],
   "source": [
    "import requests\n",
    "from bs4 import BeautifulSoup\n",
    "from selenium import webdriver\n",
    "from selenium.webdriver.common.keys import Keys\n",
    "from selenium.webdriver.common.by import By\n",
    "from selenium.webdriver.support.ui import Select\n",
    "import pandas as pd\n",
    "import pyautogui as pg\n",
    "import time"
   ]
  },
  {
   "cell_type": "code",
   "execution_count": 3,
   "metadata": {},
   "outputs": [],
   "source": [
    "#Parsers de Scraping: lxml y html5lib (ya instalados con Anaconda)\n",
    "#Webdriver de Chrome: Ir a \"https://sites.google.com/a/chromium.org/chromedriver/downloads\" para descargar un WebDriver\n",
    "#para usarlo con Selenium  \n",
    "#Revisar que sea la misma versión, el mío es ChromeDriver 83.0.4103.39 para Windows, para revisar la versión correcta\n",
    "#ir a las opciones a la esquina superior derecha de Chrome > Help > About Google Chrome"
   ]
  },
  {
   "cell_type": "markdown",
   "metadata": {},
   "source": [
    "## Entrar a PowerCampus > Clases Virtuales con Selenium"
   ]
  },
  {
   "cell_type": "code",
   "execution_count": 91,
   "metadata": {},
   "outputs": [],
   "source": [
    "browser = webdriver.Chrome(\"C:\\Program Files (x86)\\chromedriver83.exe\") #Acá puse el driver\n",
    "browser.get(\"https://autoservicio2.up.edu.pe/ss/Home.aspx\")\n",
    "barra_user = browser.find_element_by_id(\"ctl00_ucUserLogin_lvLoginUser_ucLoginUser_lcLoginUser_UserName\")\n",
    "barra_password = browser.find_element_by_id(\"ctl00_ucUserLogin_lvLoginUser_ucLoginUser_lcLoginUser_Password\")\n",
    "barra_user.send_keys(\"jm.huamanpi\") #Acá poner su usuario UP\n",
    "barra_password.send_keys(\"831134DD\") #Acá la contraseña\n",
    "barra_password.send_keys(Keys.ENTER)\n",
    "boton_clases = browser.find_element_by_link_text(\"Clases\")\n",
    "boton_clases.send_keys(Keys.ENTER)\n",
    "boton_clasesvirtuales = browser.find_element_by_link_text(\"Clases Virtuales\")\n",
    "boton_clasesvirtuales.send_keys(Keys.ENTER)"
   ]
  },
  {
   "cell_type": "markdown",
   "metadata": {},
   "source": [
    "## Navegar cursos y obtener links con Beautiful Soup o requests"
   ]
  },
  {
   "cell_type": "markdown",
   "metadata": {},
   "source": [
    "### Videos de un curso"
   ]
  },
  {
   "cell_type": "code",
   "execution_count": 92,
   "metadata": {},
   "outputs": [],
   "source": [
    "boton_desplegable = browser.find_element_by_id(\"select2-searchCursos-container\")\n",
    "boton_desplegable.click()\n",
    "busqueda = browser.find_element_by_class_name(\"select2-search__field\")\n",
    "busqueda_desplegable = browser.find_element_by_xpath('//*[@id=\"ctl00_Html1\"]/body/span/span/span[1]/input')\n",
    "busqueda_desplegable.send_keys(\"eco\") #Nombre del curso\n",
    "busqueda_desplegable.send_keys(Keys.ENTER)"
   ]
  },
  {
   "cell_type": "markdown",
   "metadata": {},
   "source": [
    "###  Obtener urls ca.bbcollab"
   ]
  },
  {
   "cell_type": "code",
   "execution_count": 93,
   "metadata": {},
   "outputs": [
    {
     "data": {
      "text/plain": [
       "36"
      ]
     },
     "execution_count": 93,
     "metadata": {},
     "output_type": "execute_result"
    }
   ],
   "source": [
    "enlaces = browser.find_elements_by_xpath('.//a[text()=\"ingresar\"]')\n",
    "urls = [] #Acá están los urls\n",
    "for n in enlaces:\n",
    "    urls.append(n.get_attribute('href'))\n",
    "urls\n",
    "len(urls)"
   ]
  },
  {
   "cell_type": "markdown",
   "metadata": {},
   "source": [
    "### Obtener urls cloudfront"
   ]
  },
  {
   "cell_type": "code",
   "execution_count": 95,
   "metadata": {},
   "outputs": [
    {
     "data": {
      "text/plain": [
       "1"
      ]
     },
     "execution_count": 95,
     "metadata": {},
     "output_type": "execute_result"
    }
   ],
   "source": [
    "urls2 = [] #Acá estarán los nuevos urls\n",
    "for a in range(0,len(urls)):\n",
    "    browser.get(urls[a])\n",
    "    if a == 0:\n",
    "        pg.hotkey('ctrl','shift','i') #Abrir las herramientas del desarrollador\n",
    "        pg.hotkey('winleft','up') #Maximizar la ventana\n",
    "        time.sleep(1.5)\n",
    "        pg.click(pg.locateCenterOnScreen('Network.png'))\n",
    "    time.sleep(8)\n",
    "    pg.click(pg.locateCenterOnScreen('Media.png'),button='right')\n",
    "    pg.click(pg.locateCenterOnScreen('Open.png'))\n",
    "    browser.switch_to.window(browser.window_handles[1])\n",
    "    urls2.append(browser.current_url)\n",
    "    pg.hotkey('ctrl','w')\n",
    "    browser.switch_to.window(browser.window_handles[0])\n",
    "urls2\n",
    "len(urls2)"
   ]
  },
  {
   "cell_type": "markdown",
   "metadata": {},
   "source": [
    "### Elegir parser"
   ]
  },
  {
   "cell_type": "code",
   "execution_count": 103,
   "metadata": {},
   "outputs": [],
   "source": []
  },
  {
   "cell_type": "code",
   "execution_count": null,
   "metadata": {},
   "outputs": [],
   "source": []
  },
  {
   "cell_type": "markdown",
   "metadata": {},
   "source": [
    "### Crear objeto de Beautiful Soup"
   ]
  },
  {
   "cell_type": "code",
   "execution_count": null,
   "metadata": {},
   "outputs": [],
   "source": []
  },
  {
   "cell_type": "code",
   "execution_count": null,
   "metadata": {},
   "outputs": [],
   "source": [
    "#Automatizar para todos los cursos"
   ]
  },
  {
   "cell_type": "markdown",
   "metadata": {},
   "source": [
    "## Organizar tabla con pandas y exportar como csv"
   ]
  },
  {
   "cell_type": "code",
   "execution_count": null,
   "metadata": {},
   "outputs": [],
   "source": []
  }
 ],
 "metadata": {
  "kernelspec": {
   "display_name": "Python 3",
   "language": "python",
   "name": "python3"
  },
  "language_info": {
   "codemirror_mode": {
    "name": "ipython",
    "version": 3
   },
   "file_extension": ".py",
   "mimetype": "text/x-python",
   "name": "python",
   "nbconvert_exporter": "python",
   "pygments_lexer": "ipython3",
   "version": "3.7.6"
  }
 },
 "nbformat": 4,
 "nbformat_minor": 4
}
