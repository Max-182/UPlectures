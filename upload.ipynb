{
 "cells": [
  {
   "cell_type": "code",
   "execution_count": 70,
   "metadata": {},
   "outputs": [],
   "source": [
    "import pyautogui as pg\n",
    "import pyperclip as pc\n",
    "import time as t"
   ]
  },
  {
   "cell_type": "code",
   "execution_count": 32,
   "metadata": {},
   "outputs": [],
   "source": [
    "#No puedo usar webdrivers para entrar a youtube, lo haré con PyAutoGUI\n",
    "# path = \"C:\\Program Files (x86)\\operadriver.exe\"\n",
    "# browser = webdriver.Opera(executable_path=path)\n",
    "# browser.get(\"https://studio.youtube.com/channel/UCHEs-R_W5qa3ukCuYwvRmxw\")\n",
    "# barra_usuario = browser.find_element_by_id(\"identifierId\")\n",
    "# barra_usuario.send_keys(\"maxpower484@hotmail.com\")\n",
    "# barra_usuario.send_keys(Keys.ENTER)"
   ]
  },
  {
   "cell_type": "code",
   "execution_count": 71,
   "metadata": {},
   "outputs": [],
   "source": [
    "def continuarsiseencuentra(imagen):\n",
    "    r4=None\n",
    "    while r4 is None:\n",
    "        t.sleep(1.5)\n",
    "        r4=pg.locateCenterOnScreen(imagen)\n",
    "        if r4==None:\n",
    "            print(\"Todavía no se encuentra su imagen %s\" %imagen)\n",
    "        else:\n",
    "            continue"
   ]
  },
  {
   "cell_type": "code",
   "execution_count": 76,
   "metadata": {},
   "outputs": [],
   "source": [
    "vinculos=[]"
   ]
  },
  {
   "cell_type": "code",
   "execution_count": 77,
   "metadata": {},
   "outputs": [
    {
     "name": "stdout",
     "output_type": "stream",
     "text": [
      "Todavía no se encuentra su imagen crear.png\n"
     ]
    }
   ],
   "source": [
    "pg.hotkey('ctrl','n')\n",
    "# pg.hotkey('alt','tab')\n",
    "# t.sleep(0.5)\n",
    "# pg.press('enter')\n",
    "t.sleep(4)\n",
    "\n",
    "pg.hotkey('winleft','right')\n",
    "t.sleep(0.2)\n",
    "pg.press('esc')\n",
    "t.sleep(0.5)\n",
    "pg.hotkey('ctrl','l')\n",
    "t.sleep(1)\n",
    "pg.typewrite(\"https://studio.youtube.com/channel/UCHEs-R_W5qa3ukCuYwvRmxw\")\n",
    "t.sleep(1)\n",
    "pg.press('enter')"
   ]
  },
  {
   "cell_type": "code",
   "execution_count": null,
   "metadata": {},
   "outputs": [],
   "source": [
    "len=11\n",
    "for j in range(len):\n",
    "continuarsiseencuentra('crear.png')\n",
    "    for i in range(4):\n",
    "        t.sleep(0.5)\n",
    "        pg.press('tab')\n",
    "    t.sleep(1)\n",
    "    pg.press('enter')\n",
    "    t.sleep(1.5)\n",
    "    pg.press('enter')\n",
    "    for i in range(3):\n",
    "        t.sleep(0.3)\n",
    "        pg.press('tab')\n",
    "    pg.press('enter')\n",
    "    t.sleep(5)\n",
    "    for i in range(3):\n",
    "        pg.hotkey('shift','tab')\n",
    "    for i in range(30):\n",
    "        pg.press('up')\n",
    "    for i in range(2):\n",
    "        pg.press('down')\n",
    "    pg.press('enter')\n",
    "    pg.press('tab')\n",
    "    pg.press('down')\n",
    "    pg.press('up')\n",
    "    for i in range(j):\n",
    "        pg.press('up')\n",
    "    pg.press('enter')\n",
    "    t.sleep(2)"
   ]
  },
  {
   "cell_type": "code",
   "execution_count": 78,
   "metadata": {},
   "outputs": [],
   "source": [
    "pg.hotkey('alt','tab')\n",
    "t.sleep(0.5)\n",
    "pg.press('enter')\n",
    "t.sleep(1)\n",
    "\n",
    "for i in range(11):\n",
    "    t.sleep(0.15)\n",
    "    pg.press('tab')\n",
    "t.sleep(1)\n",
    "pg.press('down')\n",
    "t.sleep(1)\n",
    "pg.press('enter')\n",
    "for i in range(12):\n",
    "    t.sleep(0.3)\n",
    "    pg.hotkey('shift','tab')\n",
    "t.sleep(1)\n",
    "pg.press('enter')\n",
    "t.sleep(1)\n",
    "for i in range(3):\n",
    "    t.sleep(0.3)\n",
    "    pg.hotkey('shift','tab')\n",
    "t.sleep(1)\n",
    "pg.press('tab')\n",
    "t.sleep(1)\n",
    "pg.press('enter')\n",
    "for i in range(5):\n",
    "    t.sleep(0.3)\n",
    "    pg.press('tab')\n",
    "#Acá está el vínculo del video\n",
    "t.sleep(1)\n",
    "pg.press('enter')\n",
    "t.sleep(1)\n",
    "pg.hotkey('ctrl','l')\n",
    "t.sleep(1)\n",
    "pg.hotkey('ctrl','c')\n",
    "vinculos.append(pc.paste())\n",
    "t.sleep(1)\n",
    "pg.hotkey('ctrl','w')\n",
    "for i in range(3):\n",
    "    t.sleep(0.3)\n",
    "    pg.press('tab')\n",
    "t.sleep(1)\n",
    "pg.press('enter')\n",
    "t.sleep(1)\n",
    "pg.press('tab')\n",
    "t.sleep(1)\n",
    "pg.press('enter') #Ya se estaría subiendo el video"
   ]
  },
  {
   "cell_type": "code",
   "execution_count": 79,
   "metadata": {},
   "outputs": [
    {
     "data": {
      "text/plain": [
       "['https://www.youtube.com/watch?v=SwLNhcF_9Ig&feature=youtu.be']"
      ]
     },
     "execution_count": 79,
     "metadata": {},
     "output_type": "execute_result"
    }
   ],
   "source": [
    "vinculos"
   ]
  }
 ],
 "metadata": {
  "kernelspec": {
   "display_name": "Python 3",
   "language": "python",
   "name": "python3"
  },
  "language_info": {
   "codemirror_mode": {
    "name": "ipython",
    "version": 3
   },
   "file_extension": ".py",
   "mimetype": "text/x-python",
   "name": "python",
   "nbconvert_exporter": "python",
   "pygments_lexer": "ipython3",
   "version": "3.7.6"
  }
 },
 "nbformat": 4,
 "nbformat_minor": 4
}
